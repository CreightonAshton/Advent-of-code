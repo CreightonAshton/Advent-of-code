{
 "cells": [
  {
   "cell_type": "markdown",
   "metadata": {},
   "source": [
    "# Day 03\n",
    "___\n",
    "## Part 1"
   ]
  },
  {
   "cell_type": "code",
   "execution_count": 2,
   "metadata": {},
   "outputs": [],
   "source": [
    "import re"
   ]
  },
  {
   "cell_type": "code",
   "execution_count": 24,
   "metadata": {},
   "outputs": [],
   "source": [
    "def calc_path(wire):\n",
    "    path = [[0,0]] # initialize a starting point\n",
    "    for v in wire:\n",
    "        wire_path = re.findall('(\\d+|[ULRD])', v) # seperate the direction from the amount traveled\n",
    "\n",
    "        # check the direction\n",
    "        if wire_path[0] == 'R':\n",
    "\n",
    "            # follow the path\n",
    "            for _ in range(int(wire_path[1])):\n",
    "                path.append([path[-1][0]+1, path[-1][1]]) # move right for each step\n",
    "\n",
    "        elif wire_path[0] == 'U':\n",
    "\n",
    "            for _ in range(int(wire_path[1])):\n",
    "                path.append([path[-1][0], path[-1][1]+1]) # move up for each step\n",
    "\n",
    "        elif wire_path[0] == 'L':\n",
    "            for _ in range(int(wire_path[1])):\n",
    "                path.append([path[-1][0]-1, path[-1][1]]) # move left for each step\n",
    "\n",
    "        elif wire_path[0] == 'D':\n",
    "            for _ in range(int(wire_path[1])):\n",
    "                path.append([path[-1][0], path[-1][1]-1]) # move down for each step\n",
    "\n",
    "    return path"
   ]
  },
  {
   "cell_type": "code",
   "execution_count": 25,
   "metadata": {},
   "outputs": [],
   "source": [
    "test_wire1 = ['R8','U5','L5','D3']\n",
    "test_wire2 = ['U7','R6','D4','L4']"
   ]
  },
  {
   "cell_type": "code",
   "execution_count": 26,
   "metadata": {},
   "outputs": [
    {
     "data": {
      "text/plain": [
       "[[0, 0],\n",
       " [1, 0],\n",
       " [2, 0],\n",
       " [3, 0],\n",
       " [4, 0],\n",
       " [5, 0],\n",
       " [6, 0],\n",
       " [7, 0],\n",
       " [8, 0],\n",
       " [8, 1],\n",
       " [8, 2],\n",
       " [8, 3],\n",
       " [8, 4],\n",
       " [8, 5],\n",
       " [7, 5],\n",
       " [6, 5],\n",
       " [5, 5],\n",
       " [4, 5],\n",
       " [3, 5],\n",
       " [3, 4],\n",
       " [3, 3],\n",
       " [3, 2]]"
      ]
     },
     "execution_count": 26,
     "metadata": {},
     "output_type": "execute_result"
    }
   ],
   "source": [
    "calc_path(test_wire1)"
   ]
  },
  {
   "cell_type": "code",
   "execution_count": 27,
   "metadata": {},
   "outputs": [
    {
     "data": {
      "text/plain": [
       "[[0, 0],\n",
       " [0, 1],\n",
       " [0, 2],\n",
       " [0, 3],\n",
       " [0, 4],\n",
       " [0, 5],\n",
       " [0, 6],\n",
       " [0, 7],\n",
       " [1, 7],\n",
       " [2, 7],\n",
       " [3, 7],\n",
       " [4, 7],\n",
       " [5, 7],\n",
       " [6, 7],\n",
       " [6, 6],\n",
       " [6, 5],\n",
       " [6, 4],\n",
       " [6, 3],\n",
       " [5, 3],\n",
       " [4, 3],\n",
       " [3, 3],\n",
       " [2, 3]]"
      ]
     },
     "execution_count": 27,
     "metadata": {},
     "output_type": "execute_result"
    }
   ],
   "source": [
    "calc_path(test_wire2)"
   ]
  },
  {
   "cell_type": "code",
   "execution_count": 33,
   "metadata": {},
   "outputs": [],
   "source": [
    "# now we just need to find where the values are the same in each list to find the intersections\n",
    "def find_intersections(wire1, wire2):\n",
    "    # initialize starting intersection list\n",
    "    xsection = []\n",
    "    \n",
    "    # get the paths for each wire\n",
    "    path1 = calc_path(wire1)\n",
    "    path2 = calc_path(wire2)\n",
    "    \n",
    "    # check each location in path1 against each location in path2\n",
    "    for loc1 in path1:\n",
    "        for loc2 in path2:\n",
    "            if loc1 == loc2: # when they are the same add the position to the intersection list\n",
    "                xsection.append(loc1)\n",
    "                \n",
    "    return xsection[1:] # we don't need to return the first position becasue it's always [0,0]"
   ]
  },
  {
   "cell_type": "code",
   "execution_count": 34,
   "metadata": {},
   "outputs": [
    {
     "data": {
      "text/plain": [
       "[[6, 5], [3, 3]]"
      ]
     },
     "execution_count": 34,
     "metadata": {},
     "output_type": "execute_result"
    }
   ],
   "source": [
    "find_intersections(test_wire1, test_wire2)"
   ]
  },
  {
   "cell_type": "code",
   "execution_count": 35,
   "metadata": {},
   "outputs": [],
   "source": [
    "# now we need a function to find the intersection point that is closest to [0,0]\n",
    "def closest_point(intersections):\n",
    "\n",
    "    # calculate the Manhattan distance for each point to the origin [0,0]\n",
    "    distances = [abs(point[0]) + abs(point[1]) for point in intersections]\n",
    "    \n",
    "    return min(distances)"
   ]
  },
  {
   "cell_type": "code",
   "execution_count": 36,
   "metadata": {},
   "outputs": [
    {
     "data": {
      "text/plain": [
       "6"
      ]
     },
     "execution_count": 36,
     "metadata": {},
     "output_type": "execute_result"
    }
   ],
   "source": [
    "closest_point(find_intersections(test_wire1, test_wire2))"
   ]
  },
  {
   "cell_type": "markdown",
   "metadata": {},
   "source": [
    "### Let's test some other examples."
   ]
  },
  {
   "cell_type": "code",
   "execution_count": 37,
   "metadata": {},
   "outputs": [
    {
     "data": {
      "text/plain": [
       "159"
      ]
     },
     "execution_count": 37,
     "metadata": {},
     "output_type": "execute_result"
    }
   ],
   "source": [
    "test_wire1 = ['R75','D30','R83','U83','L12','D49','R71','U7','L72']\n",
    "test_wire2 = ['U62','R66','U55','R34','D71','R55','D58','R83']\n",
    "closest_point(find_intersections(test_wire1, test_wire2))"
   ]
  },
  {
   "cell_type": "code",
   "execution_count": 38,
   "metadata": {},
   "outputs": [
    {
     "data": {
      "text/plain": [
       "135"
      ]
     },
     "execution_count": 38,
     "metadata": {},
     "output_type": "execute_result"
    }
   ],
   "source": [
    "test_wire1 = ['R98','U47','R26','D63','R33','U87','L62','D20','R33','U53','R51']\n",
    "test_wire2 = ['U98','R91','D20','R16','D67','R40','U7','R15','U6','R7']\n",
    "closest_point(find_intersections(test_wire1, test_wire2))"
   ]
  },
  {
   "cell_type": "markdown",
   "metadata": {},
   "source": [
    "### Puzzle data"
   ]
  },
  {
   "cell_type": "code",
   "execution_count": 47,
   "metadata": {},
   "outputs": [],
   "source": [
    "with open('./Data/wires.txt', 'r') as f:\n",
    "    wire1, wire2 = f.readlines()"
   ]
  },
  {
   "cell_type": "code",
   "execution_count": 52,
   "metadata": {},
   "outputs": [],
   "source": [
    "wire1 = wire1.strip().split(',')\n",
    "wire2 = wire2.strip().split(',')"
   ]
  },
  {
   "cell_type": "code",
   "execution_count": 53,
   "metadata": {},
   "outputs": [
    {
     "data": {
      "text/plain": [
       "721"
      ]
     },
     "execution_count": 53,
     "metadata": {},
     "output_type": "execute_result"
    }
   ],
   "source": [
    "closest_point(find_intersections(wire1, wire2))"
   ]
  },
  {
   "cell_type": "markdown",
   "metadata": {},
   "source": [
    "___\n",
    "## Part 2"
   ]
  },
  {
   "cell_type": "code",
   "execution_count": null,
   "metadata": {},
   "outputs": [],
   "source": []
  }
 ],
 "metadata": {
  "kernelspec": {
   "display_name": "Python 3",
   "language": "python",
   "name": "python3"
  },
  "language_info": {
   "codemirror_mode": {
    "name": "ipython",
    "version": 3
   },
   "file_extension": ".py",
   "mimetype": "text/x-python",
   "name": "python",
   "nbconvert_exporter": "python",
   "pygments_lexer": "ipython3",
   "version": "3.7.3"
  }
 },
 "nbformat": 4,
 "nbformat_minor": 2
}
