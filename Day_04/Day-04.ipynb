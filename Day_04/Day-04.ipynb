{
 "cells": [
  {
   "cell_type": "markdown",
   "metadata": {},
   "source": [
    "# Day 04\n",
    "___\n",
    "## Part 1"
   ]
  },
  {
   "cell_type": "code",
   "execution_count": 55,
   "metadata": {},
   "outputs": [
    {
     "data": {
      "text/plain": [
       "495"
      ]
     },
     "execution_count": 55,
     "metadata": {},
     "output_type": "execute_result"
    }
   ],
   "source": [
    "num_range = range(367479, 893698)\n",
    "\n",
    "count = 0\n",
    "for num in num_range:\n",
    "    \n",
    "    # make a list version of each number so we can compare the sorted values with the original\n",
    "    # this will also alow us to conver the list into a set to check for doubles.\n",
    "    s = [int(c) for c in str(num)]\n",
    "    \n",
    "    # checking for duplicates in the number and that thier sorted value is the same as the starting number\n",
    "    if len(set(s)) < 6 and sorted(s) == s:\n",
    "        count += 1\n",
    "    \n",
    "count"
   ]
  },
  {
   "cell_type": "markdown",
   "metadata": {},
   "source": [
    "___\n",
    "## Part 2"
   ]
  },
  {
   "cell_type": "code",
   "execution_count": 56,
   "metadata": {},
   "outputs": [],
   "source": [
    "from collections import Counter # this is a class that will count the number of occurance for us"
   ]
  },
  {
   "cell_type": "code",
   "execution_count": 57,
   "metadata": {},
   "outputs": [],
   "source": [
    "test_range = [112233, 123444, 111122, 112234, 445637, 346679, 987654, 223455, 1122333]"
   ]
  },
  {
   "cell_type": "code",
   "execution_count": 58,
   "metadata": {},
   "outputs": [
    {
     "data": {
      "text/plain": [
       "305"
      ]
     },
     "execution_count": 58,
     "metadata": {},
     "output_type": "execute_result"
    }
   ],
   "source": [
    "count = 0\n",
    "for num in num_range:\n",
    "    # make a list version of each number same as before\n",
    "    s = [int(c) for c in str(num)]\n",
    "    \n",
    "    # we need the same set of conditions as before except we also need to check if a number is repeated only twice\n",
    "    if len(set(s)) < 6 and sorted(s) == s and 2 in Counter(s).values():\n",
    "        count += 1\n",
    "        \n",
    "count"
   ]
  },
  {
   "cell_type": "code",
   "execution_count": null,
   "metadata": {},
   "outputs": [],
   "source": []
  }
 ],
 "metadata": {
  "kernelspec": {
   "display_name": "Python 3",
   "language": "python",
   "name": "python3"
  },
  "language_info": {
   "codemirror_mode": {
    "name": "ipython",
    "version": 3
   },
   "file_extension": ".py",
   "mimetype": "text/x-python",
   "name": "python",
   "nbconvert_exporter": "python",
   "pygments_lexer": "ipython3",
   "version": "3.7.3"
  }
 },
 "nbformat": 4,
 "nbformat_minor": 2
}
